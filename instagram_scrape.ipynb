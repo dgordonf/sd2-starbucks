{
 "cells": [
  {
   "cell_type": "code",
   "execution_count": 1,
   "metadata": {},
   "outputs": [
    {
     "name": "stderr",
     "output_type": "stream",
     "text": [
      "C:\\Users\\Dave\\AppData\\Local\\Temp\\ipykernel_23464\\1434327385.py:20: DeprecationWarning: executable_path has been deprecated, please pass in a Service object\n",
      "  chrome = webdriver.Chrome(\"C:/Users/Dave/Desktop/i/Ventures/dream_ads/chromedriver_win32/chromedriver.exe\")\n"
     ]
    }
   ],
   "source": [
    "# import required modules\n",
    "from selenium import webdriver\n",
    "from selenium.webdriver.common.keys import Keys\n",
    "import selenium.common.exceptions\n",
    "import time\n",
    "from bs4 import BeautifulSoup\n",
    "import requests\n",
    "import os\n",
    "import pandas as pd\n",
    "\n",
    " \n",
    "# assign URL\n",
    "url = 'https://instagram.com/starbucks/'\n",
    " \n",
    "# Get URL path\n",
    "def path():\n",
    "    global chrome\n",
    "    # starts a new chrome session\n",
    "    # add path if required\n",
    "    chrome = webdriver.Chrome(\"C:/Users/Dave/Desktop/i/Ventures/dream_ads/chromedriver_win32/chromedriver.exe\")\n",
    "     \n",
    "# Extract URL\n",
    "def url_name(url):\n",
    "    # the web page opens up\n",
    "    chrome.get(url)\n",
    "     \n",
    "    # webdriver will wait for 4 sec before throwing a\n",
    "    # NoSuchElement exception so that the element\n",
    "    # is detected and not skipped.\n",
    "    time.sleep(4)\n",
    "     \n",
    "# Driver Code\n",
    "path()\n",
    "time.sleep(1)\n",
    " \n",
    "url_name(url)\n",
    "\n",
    "\n",
    "\n"
   ]
  },
  {
   "cell_type": "code",
   "execution_count": 2,
   "metadata": {},
   "outputs": [
    {
     "name": "stderr",
     "output_type": "stream",
     "text": [
      "C:\\Users\\Dave\\AppData\\Local\\Temp\\ipykernel_23464\\22917577.py:4: DeprecationWarning: find_element_by_tag_name is deprecated. Please use find_element(by=By.TAG_NAME, value=name) instead\n",
      "  chrome.find_element_by_tag_name('body').send_keys(Keys.END)\n"
     ]
    }
   ],
   "source": [
    "\n",
    "big_df = pd.DataFrame()\n",
    "#Page down 100 times\n",
    "for i in range(100):\n",
    "    chrome.find_element_by_tag_name('body').send_keys(Keys.END)\n",
    "    time.sleep(5)\n",
    "\n",
    "    #Get beautifulsoup object\n",
    "    soup = BeautifulSoup(chrome.page_source, 'html.parser')\n",
    "\n",
    "    #Get all divs with class name \"_aagv\"\n",
    "    divs = soup.find_all('div', class_='_aagv')\n",
    "\n",
    "    #Get all img tags\n",
    "    imgs = [div.find('img') for div in divs]\n",
    "\n",
    "    #For each image, store the alt text and src in a dataframe\n",
    "    df = pd.DataFrame()\n",
    "    for i in range(len(imgs)):\n",
    "        try:\n",
    "            df = df.append({'text': imgs[i]['alt'], 'url': imgs[i]['src']}, ignore_index=True)\n",
    "        except:\n",
    "            pass\n",
    "\n",
    "    #add \"Starbucks Ad: \" to the beginning of each alt text\n",
    "    df['text'] = 'Starbucks Ad: ' + df['text']\n",
    "\n",
    "    #append to big_df\n",
    "    big_df = big_df.append(df, ignore_index=True)\n",
    "\n",
    "big_df = big_df.drop_duplicates(subset='url')"
   ]
  },
  {
   "cell_type": "code",
   "execution_count": 3,
   "metadata": {},
   "outputs": [],
   "source": [
    "#Create folder called \"input\"\n",
    "if not os.path.exists('input'):\n",
    "    os.makedirs('input')\n",
    "\n",
    "#Save every image URL to a folder call \"input\"\n",
    "for i in range(len(big_df)):\n",
    "    try:\n",
    "        r = requests.get(big_df['url'][i])\n",
    "        with open('input/' + str(i) + '.jpg', 'wb') as f:\n",
    "            f.write(r.content)\n",
    "    except:\n",
    "        pass\n",
    "    "
   ]
  },
  {
   "cell_type": "code",
   "execution_count": 4,
   "metadata": {},
   "outputs": [],
   "source": [
    "#Close Chrome\n",
    "chrome.close()"
   ]
  }
 ],
 "metadata": {
  "kernelspec": {
   "display_name": "Python 3 (ipykernel)",
   "language": "python",
   "name": "python3"
  },
  "language_info": {
   "codemirror_mode": {
    "name": "ipython",
    "version": 3
   },
   "file_extension": ".py",
   "mimetype": "text/x-python",
   "name": "python",
   "nbconvert_exporter": "python",
   "pygments_lexer": "ipython3",
   "version": "3.8.10"
  },
  "orig_nbformat": 4,
  "vscode": {
   "interpreter": {
    "hash": "aa0e2723f11fc5b5c41506ab4ac5acd33b8668ecf60341838705c3179608e564"
   }
  }
 },
 "nbformat": 4,
 "nbformat_minor": 2
}
